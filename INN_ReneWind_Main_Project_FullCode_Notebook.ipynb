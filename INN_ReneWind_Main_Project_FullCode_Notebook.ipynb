{
  "cells": [
    {
      "cell_type": "markdown",
      "metadata": {
        "id": "9EaJ8AGwpM-2"
      },
      "source": [
        "# **Problem Statement**"
      ]
    },
    {
      "cell_type": "markdown",
      "metadata": {
        "id": "x3-QehJxbp0t"
      },
      "source": [
        "## Business Context"
      ]
    },
    {
      "cell_type": "markdown",
      "metadata": {
        "id": "7DoY1AHZfMF1"
      },
      "source": [
        "Renewable energy sources play an increasingly important role in the global energy mix, as the effort to reduce the environmental impact of energy production increases.\n",
        "\n",
        "Out of all the renewable energy alternatives, wind energy is one of the most developed technologies worldwide. The U.S Department of Energy has put together a guide to achieving operational efficiency using predictive maintenance practices.\n",
        "\n",
        "Predictive maintenance uses sensor information and analysis methods to measure and predict degradation and future component capability. The idea behind predictive maintenance is that failure patterns are predictable and if component failure can be predicted accurately and the component is replaced before it fails, the costs of operation and maintenance will be much lower.\n",
        "\n",
        "The sensors fitted across different machines involved in the process of energy generation collect data related to various environmental factors (temperature, humidity, wind speed, etc.) and additional features related to various parts of the wind turbine (gearbox, tower, blades, break, etc.)."
      ]
    },
    {
      "cell_type": "markdown",
      "metadata": {
        "id": "4p9zp6bHfPOY"
      },
      "source": [
        "## Objective"
      ]
    },
    {
      "cell_type": "markdown",
      "metadata": {
        "id": "eu7YIw90fRdW"
      },
      "source": [
        "“ReneWind” is a company working on improving the machinery/processes involved in the production of wind energy using machine learning and has collected data of generator failure of wind turbines using sensors. They have shared a ciphered version of the data, as the data collected through sensors is confidential (the type of data collected varies with companies). Data has 40 predictors, 20000 observations in the training set and 5000 in the test set.\n",
        "\n",
        "The objective is to build various classification models, tune them, and find the best one that will help identify failures so that the generators could be repaired before failing/breaking to reduce the overall maintenance cost.\n",
        "The nature of predictions made by the classification model will translate as follows:\n",
        "\n",
        "- True positives (TP) are failures correctly predicted by the model. These will result in repairing costs.\n",
        "- False negatives (FN) are real failures where there is no detection by the model. These will result in replacement costs.\n",
        "- False positives (FP) are detections where there is no failure. These will result in inspection costs.\n",
        "\n",
        "It is given that the cost of repairing a generator is much less than the cost of replacing it, and the cost of inspection is less than the cost of repair.\n",
        "\n",
        "“1” in the target variables should be considered as “failure” and “0” represents “No failure”."
      ]
    },
    {
      "cell_type": "markdown",
      "metadata": {
        "id": "XPeJAS5bfUOj"
      },
      "source": [
        "## Data Description"
      ]
    },
    {
      "cell_type": "markdown",
      "metadata": {
        "id": "P4ns9KiyfVsW"
      },
      "source": [
        "The data provided is a transformed version of the original data which was collected using sensors.\n",
        "\n",
        "- Train.csv - To be used for training and tuning of models.\n",
        "- Test.csv - To be used only for testing the performance of the final best model.\n",
        "\n",
        "Both the datasets consist of 40 predictor variables and 1 target variable."
      ]
    },
    {
      "cell_type": "markdown",
      "metadata": {
        "id": "v_-uuGqH-qTt"
      },
      "source": [
        "# **Installing and Importing the necessary libraries**"
      ]
    },
    {
      "cell_type": "code",
      "execution_count": 6,
      "metadata": {
        "id": "s5w1NSScjjiW"
      },
      "outputs": [
        {
          "name": "stdout",
          "output_type": "stream",
          "text": [
            "\u001b[31mERROR: Can not perform a '--user' install. User site-packages are not visible in this virtualenv.\u001b[0m\u001b[31m\n",
            "\u001b[0mNote: you may need to restart the kernel to use updated packages.\n"
          ]
        }
      ],
      "source": [
        "# Installing the libraries with the specified version\n",
        "%pip install --no-deps tensorflow==2.18.0 scikit-learn==1.3.2 matplotlib===3.8.3 seaborn==0.13.2 numpy==1.26.4 pandas==2.2.2 -q --user --no-warn-script-location"
      ]
    },
    {
      "cell_type": "code",
      "execution_count": 16,
      "metadata": {},
      "outputs": [
        {
          "ename": "ModuleNotFoundError",
          "evalue": "No module named 'matplotlib'",
          "output_type": "error",
          "traceback": [
            "\u001b[0;31m---------------------------------------------------------------------------\u001b[0m",
            "\u001b[0;31mModuleNotFoundError\u001b[0m                       Traceback (most recent call last)",
            "Cell \u001b[0;32mIn[16], line 3\u001b[0m\n\u001b[1;32m      1\u001b[0m \u001b[38;5;28;01mimport\u001b[39;00m\u001b[38;5;250m \u001b[39m\u001b[38;5;21;01mnumpy\u001b[39;00m\u001b[38;5;250m \u001b[39m\u001b[38;5;28;01mas\u001b[39;00m\u001b[38;5;250m \u001b[39m\u001b[38;5;21;01mnp\u001b[39;00m\n\u001b[1;32m      2\u001b[0m \u001b[38;5;28;01mimport\u001b[39;00m\u001b[38;5;250m \u001b[39m\u001b[38;5;21;01mpandas\u001b[39;00m\u001b[38;5;250m \u001b[39m\u001b[38;5;28;01mas\u001b[39;00m\u001b[38;5;250m \u001b[39m\u001b[38;5;21;01mpd\u001b[39;00m\n\u001b[0;32m----> 3\u001b[0m \u001b[38;5;28;01mimport\u001b[39;00m\u001b[38;5;250m \u001b[39m\u001b[38;5;21;01mmatplotlib\u001b[39;00m\u001b[38;5;21;01m.\u001b[39;00m\u001b[38;5;21;01mpyplot\u001b[39;00m\u001b[38;5;250m \u001b[39m\u001b[38;5;28;01mas\u001b[39;00m\u001b[38;5;250m \u001b[39m\u001b[38;5;21;01mplt\u001b[39;00m\n\u001b[1;32m      4\u001b[0m \u001b[38;5;28;01mimport\u001b[39;00m\u001b[38;5;250m \u001b[39m\u001b[38;5;21;01mseaborn\u001b[39;00m\u001b[38;5;250m \u001b[39m\u001b[38;5;28;01mas\u001b[39;00m\u001b[38;5;250m \u001b[39m\u001b[38;5;21;01msns\u001b[39;00m\n",
            "\u001b[0;31mModuleNotFoundError\u001b[0m: No module named 'matplotlib'"
          ]
        }
      ],
      "source": [
        "\n",
        "import numpy as np\n",
        "import pandas as pd\n",
        "import matplotlib.pyplot as plt\n",
        "import seaborn as sns"
      ]
    },
    {
      "cell_type": "markdown",
      "metadata": {
        "id": "fQsK5-zTfqBt"
      },
      "source": [
        "**Note**:\n",
        "- After running the above cell, kindly restart the runtime (for Google Colab) or notebook kernel (for Jupyter Notebook), and run all cells sequentially from the next cell.\n",
        "- On executing the above line of code, you might see a warning regarding package dependencies. This error message can be ignored as the above code ensures that all necessary libraries and their dependencies are maintained to successfully execute the code in ***this notebook***."
      ]
    },
    {
      "cell_type": "markdown",
      "metadata": {
        "id": "xxhpZv9y-qTw"
      },
      "source": [
        "# **Loading the Data**"
      ]
    },
    {
      "cell_type": "code",
      "execution_count": 14,
      "metadata": {
        "id": "ZwejMQj9jlrK"
      },
      "outputs": [],
      "source": [
        "train_df = pd.read_csv('Train.csv')\n",
        "test_df = pd.read_csv('Test.csv')\n"
      ]
    },
    {
      "cell_type": "markdown",
      "metadata": {
        "id": "4cVx5kZHbp02"
      },
      "source": [
        "# **Data Overview**"
      ]
    },
    {
      "cell_type": "code",
      "execution_count": 15,
      "metadata": {
        "id": "J6lzvHKCbp06"
      },
      "outputs": [
        {
          "name": "stdout",
          "output_type": "stream",
          "text": [
            "Train Data Overview\n",
            "Shape: (20000, 41)\n",
            "Columns: ['V1', 'V2', 'V3', 'V4', 'V5', 'V6', 'V7', 'V8', 'V9', 'V10', 'V11', 'V12', 'V13', 'V14', 'V15', 'V16', 'V17', 'V18', 'V19', 'V20', 'V21', 'V22', 'V23', 'V24', 'V25', 'V26', 'V27', 'V28', 'V29', 'V30', 'V31', 'V32', 'V33', 'V34', 'V35', 'V36', 'V37', 'V38', 'V39', 'V40', 'Target']\n",
            "Data types:\n",
            " V1        float64\n",
            "V2        float64\n",
            "V3        float64\n",
            "V4        float64\n",
            "V5        float64\n",
            "V6        float64\n",
            "V7        float64\n",
            "V8        float64\n",
            "V9        float64\n",
            "V10       float64\n",
            "V11       float64\n",
            "V12       float64\n",
            "V13       float64\n",
            "V14       float64\n",
            "V15       float64\n",
            "V16       float64\n",
            "V17       float64\n",
            "V18       float64\n",
            "V19       float64\n",
            "V20       float64\n",
            "V21       float64\n",
            "V22       float64\n",
            "V23       float64\n",
            "V24       float64\n",
            "V25       float64\n",
            "V26       float64\n",
            "V27       float64\n",
            "V28       float64\n",
            "V29       float64\n",
            "V30       float64\n",
            "V31       float64\n",
            "V32       float64\n",
            "V33       float64\n",
            "V34       float64\n",
            "V35       float64\n",
            "V36       float64\n",
            "V37       float64\n",
            "V38       float64\n",
            "V39       float64\n",
            "V40       float64\n",
            "Target      int64\n",
            "dtype: object\n",
            "First 5 rows:\n",
            "          V1        V2        V3        V4        V5        V6        V7  \\\n",
            "0 -4.464606 -4.679129  3.101546  0.506130 -0.221083 -2.032511 -2.910870   \n",
            "1  3.365912  3.653381  0.909671 -1.367528  0.332016  2.358938  0.732600   \n",
            "2 -3.831843 -5.824444  0.634031 -2.418815 -1.773827  1.016824 -2.098941   \n",
            "3  1.618098  1.888342  7.046143 -1.147285  0.083080 -1.529780  0.207309   \n",
            "4 -0.111440  3.872488 -3.758361 -2.982897  3.792714  0.544960  0.205433   \n",
            "\n",
            "         V8        V9       V10  ...       V32       V33        V34       V35  \\\n",
            "0  0.050714 -1.522351  3.761892  ...  3.059700 -1.690440   2.846296  2.235198   \n",
            "1 -4.332135  0.565695 -0.101080  ... -1.795474  3.032780  -2.467514  1.894599   \n",
            "2 -3.173204 -2.081860  5.392621  ... -0.257101  0.803550   4.086219  2.292138   \n",
            "3 -2.493629  0.344926  2.118578  ... -3.584425 -2.577474   1.363769  0.622714   \n",
            "4  4.848994 -1.854920 -6.220023  ...  8.265896  6.629213 -10.068689  1.222987   \n",
            "\n",
            "        V36       V37       V38       V39       V40  Target  \n",
            "0  6.667486  0.443809 -2.369169  2.950578 -3.480324       0  \n",
            "1 -2.297780 -1.731048  5.908837 -0.386345  0.616242       0  \n",
            "2  5.360850  0.351993  2.940021  3.839160 -4.309402       0  \n",
            "3  5.550100 -1.526796  0.138853  3.101430 -1.277378       0  \n",
            "4 -3.229763  1.686909 -2.163896 -3.644622  6.510338       0  \n",
            "\n",
            "[5 rows x 41 columns]\n",
            "Summary statistics:\n",
            "                  V1            V2            V3            V4            V5  \\\n",
            "count  19982.000000  19982.000000  20000.000000  20000.000000  20000.000000   \n",
            "mean      -0.271996      0.440430      2.484699     -0.083152     -0.053752   \n",
            "std        3.441625      3.150784      3.388963      3.431595      2.104801   \n",
            "min      -11.876451    -12.319951    -10.708139    -15.082052     -8.603361   \n",
            "25%       -2.737146     -1.640674      0.206860     -2.347660     -1.535607   \n",
            "50%       -0.747917      0.471536      2.255786     -0.135241     -0.101952   \n",
            "75%        1.840112      2.543967      4.566165      2.130615      1.340480   \n",
            "max       15.493002     13.089269     17.090919     13.236381      8.133797   \n",
            "\n",
            "                 V6            V7            V8            V9           V10  \\\n",
            "count  20000.000000  20000.000000  20000.000000  20000.000000  20000.000000   \n",
            "mean      -0.995443     -0.879325     -0.548195     -0.016808     -0.012998   \n",
            "std        2.040970      1.761626      3.295756      2.160568      2.193201   \n",
            "min      -10.227147     -7.949681    -15.657561     -8.596313     -9.853957   \n",
            "25%       -2.347238     -2.030926     -2.642665     -1.494973     -1.411212   \n",
            "50%       -1.000515     -0.917179     -0.389085     -0.067597      0.100973   \n",
            "75%        0.380330      0.223695      1.722965      1.409203      1.477045   \n",
            "max        6.975847      8.006091     11.679495      8.137580      8.108472   \n",
            "\n",
            "       ...           V32           V33           V34           V35  \\\n",
            "count  ...  20000.000000  20000.000000  20000.000000  20000.000000   \n",
            "mean   ...      0.303799      0.049825     -0.462702      2.229620   \n",
            "std    ...      5.500400      3.575285      3.183841      2.937102   \n",
            "min    ...    -19.876502    -16.898353    -17.985094    -15.349803   \n",
            "25%    ...     -3.420469     -2.242857     -2.136984      0.336191   \n",
            "50%    ...      0.052073     -0.066249     -0.255008      2.098633   \n",
            "75%    ...      3.761722      2.255134      1.436935      4.064358   \n",
            "max    ...     23.633187     16.692486     14.358213     15.291065   \n",
            "\n",
            "                V36           V37           V38           V39           V40  \\\n",
            "count  20000.000000  20000.000000  20000.000000  20000.000000  20000.000000   \n",
            "mean       1.514809      0.011316     -0.344025      0.890653     -0.875630   \n",
            "std        3.800860      1.788165      3.948147      1.753054      3.012155   \n",
            "min      -14.833178     -5.478350    -17.375002     -6.438880    -11.023935   \n",
            "25%       -0.943809     -1.255819     -2.987638     -0.272250     -2.940193   \n",
            "50%        1.566526     -0.128435     -0.316849      0.919261     -0.920806   \n",
            "75%        3.983939      1.175533      2.279399      2.057540      1.119897   \n",
            "max       19.329576      7.467006     15.289923      7.759877     10.654265   \n",
            "\n",
            "             Target  \n",
            "count  20000.000000  \n",
            "mean       0.055500  \n",
            "std        0.228959  \n",
            "min        0.000000  \n",
            "25%        0.000000  \n",
            "50%        0.000000  \n",
            "75%        0.000000  \n",
            "max        1.000000  \n",
            "\n",
            "[8 rows x 41 columns]\n",
            "Missing values:\n",
            " V1        18\n",
            "V2        18\n",
            "V3         0\n",
            "V4         0\n",
            "V5         0\n",
            "V6         0\n",
            "V7         0\n",
            "V8         0\n",
            "V9         0\n",
            "V10        0\n",
            "V11        0\n",
            "V12        0\n",
            "V13        0\n",
            "V14        0\n",
            "V15        0\n",
            "V16        0\n",
            "V17        0\n",
            "V18        0\n",
            "V19        0\n",
            "V20        0\n",
            "V21        0\n",
            "V22        0\n",
            "V23        0\n",
            "V24        0\n",
            "V25        0\n",
            "V26        0\n",
            "V27        0\n",
            "V28        0\n",
            "V29        0\n",
            "V30        0\n",
            "V31        0\n",
            "V32        0\n",
            "V33        0\n",
            "V34        0\n",
            "V35        0\n",
            "V36        0\n",
            "V37        0\n",
            "V38        0\n",
            "V39        0\n",
            "V40        0\n",
            "Target     0\n",
            "dtype: int64\n",
            "\n",
            "============================================================\n",
            "\n",
            "Test Data Overview\n",
            "Shape: (5000, 41)\n",
            "Columns: ['V1', 'V2', 'V3', 'V4', 'V5', 'V6', 'V7', 'V8', 'V9', 'V10', 'V11', 'V12', 'V13', 'V14', 'V15', 'V16', 'V17', 'V18', 'V19', 'V20', 'V21', 'V22', 'V23', 'V24', 'V25', 'V26', 'V27', 'V28', 'V29', 'V30', 'V31', 'V32', 'V33', 'V34', 'V35', 'V36', 'V37', 'V38', 'V39', 'V40', 'Target']\n",
            "Data types:\n",
            " V1        float64\n",
            "V2        float64\n",
            "V3        float64\n",
            "V4        float64\n",
            "V5        float64\n",
            "V6        float64\n",
            "V7        float64\n",
            "V8        float64\n",
            "V9        float64\n",
            "V10       float64\n",
            "V11       float64\n",
            "V12       float64\n",
            "V13       float64\n",
            "V14       float64\n",
            "V15       float64\n",
            "V16       float64\n",
            "V17       float64\n",
            "V18       float64\n",
            "V19       float64\n",
            "V20       float64\n",
            "V21       float64\n",
            "V22       float64\n",
            "V23       float64\n",
            "V24       float64\n",
            "V25       float64\n",
            "V26       float64\n",
            "V27       float64\n",
            "V28       float64\n",
            "V29       float64\n",
            "V30       float64\n",
            "V31       float64\n",
            "V32       float64\n",
            "V33       float64\n",
            "V34       float64\n",
            "V35       float64\n",
            "V36       float64\n",
            "V37       float64\n",
            "V38       float64\n",
            "V39       float64\n",
            "V40       float64\n",
            "Target      int64\n",
            "dtype: object\n",
            "First 5 rows:\n",
            "          V1        V2        V3        V4        V5        V6        V7  \\\n",
            "0 -0.613489 -3.819640  2.202302  1.300420 -1.184929 -4.495964 -1.835817   \n",
            "1  0.389608 -0.512341  0.527053 -2.576776 -1.016766  2.235112 -0.441301   \n",
            "2 -0.874861 -0.640632  4.084202 -1.590454  0.525855 -1.957592 -0.695367   \n",
            "3  0.238384  1.458607  4.014528  2.534478  1.196987 -3.117330 -0.924035   \n",
            "4  5.828225  2.768260 -1.234530  2.809264 -1.641648 -1.406698  0.568643   \n",
            "\n",
            "         V8        V9       V10  ...       V32       V33       V34       V35  \\\n",
            "0  4.722989  1.206140 -0.341909  ...  2.291204 -5.411388  0.870073  0.574479   \n",
            "1 -4.405744 -0.332869  1.966794  ... -2.474936  2.493582  0.315165  2.059288   \n",
            "2  1.347309 -1.732348  0.466500  ... -1.318888 -2.997464  0.459664  0.619774   \n",
            "3  0.269493  1.322436  0.702345  ...  3.517918 -3.074085 -0.284220  0.954576   \n",
            "4  0.965043  1.918379 -2.774855  ...  1.773841 -1.501573 -2.226702  4.776830   \n",
            "\n",
            "        V36       V37        V38       V39       V40  Target  \n",
            "0  4.157191  1.428093 -10.511342  0.454664 -1.448363       0  \n",
            "1  0.683859 -0.485452   5.128350  1.720744 -1.488235       0  \n",
            "2  5.631504  1.323512  -1.752154  1.808302  1.675748       0  \n",
            "3  3.029331 -1.367198  -3.412140  0.906000 -2.450889       0  \n",
            "4 -6.559698 -0.805551  -0.276007 -3.858207 -0.537694       0  \n",
            "\n",
            "[5 rows x 41 columns]\n",
            "Summary statistics:\n",
            "                 V1           V2           V3           V4           V5  \\\n",
            "count  4995.000000  4994.000000  5000.000000  5000.000000  5000.000000   \n",
            "mean     -0.277622     0.397928     2.551787    -0.048943    -0.080120   \n",
            "std       3.466280     3.139562     3.326607     3.413937     2.110870   \n",
            "min     -12.381696   -10.716179    -9.237940   -14.682446    -7.711569   \n",
            "25%      -2.743691    -1.649211     0.314931    -2.292694    -1.615238   \n",
            "50%      -0.764767     0.427369     2.260428    -0.145753    -0.131890   \n",
            "75%       1.831313     2.444486     4.587000     2.166468     1.341197   \n",
            "max      13.504352    14.079073    15.314503    12.140157     7.672835   \n",
            "\n",
            "                V6           V7           V8           V9          V10  ...  \\\n",
            "count  5000.000000  5000.000000  5000.000000  5000.000000  5000.000000  ...   \n",
            "mean     -1.042138    -0.907922    -0.574592     0.030121     0.018524  ...   \n",
            "std       2.005444     1.769017     3.331911     2.174139     2.145437  ...   \n",
            "min      -8.924196    -8.124230   -12.252731    -6.785495    -8.170956  ...   \n",
            "25%      -2.368853    -2.054259    -2.642088    -1.455712    -1.353320  ...   \n",
            "50%      -1.048571    -0.939695    -0.357943    -0.079891     0.166292  ...   \n",
            "75%       0.307555     0.212228     1.712896     1.449548     1.511248  ...   \n",
            "max       5.067685     7.616182    10.414722     8.850720     6.598728  ...   \n",
            "\n",
            "               V32          V33          V34          V35          V36  \\\n",
            "count  5000.000000  5000.000000  5000.000000  5000.000000  5000.000000   \n",
            "mean      0.232567    -0.080115    -0.392663     2.211205     1.594845   \n",
            "std       5.585628     3.538624     3.166101     2.948426     3.774970   \n",
            "min     -17.244168   -14.903781   -14.699725   -12.260591   -12.735567   \n",
            "25%      -3.556267    -2.348121    -2.009604     0.321818    -0.866066   \n",
            "50%      -0.076694    -0.159713    -0.171745     2.111750     1.702964   \n",
            "75%       3.751857     2.099160     1.465402     4.031639     4.104409   \n",
            "max      26.539391    13.323517    12.146302    13.489237    17.116122   \n",
            "\n",
            "               V37          V38          V39          V40       Target  \n",
            "count  5000.000000  5000.000000  5000.000000  5000.000000  5000.000000  \n",
            "mean      0.022931    -0.405659     0.938800    -0.932406     0.056400  \n",
            "std       1.785320     3.968936     1.716502     2.978193     0.230716  \n",
            "min      -5.079070   -15.334533    -5.451050   -10.076234     0.000000  \n",
            "25%      -1.240526    -2.984480    -0.208024    -2.986587     0.000000  \n",
            "50%      -0.110415    -0.381162     0.959152    -1.002764     0.000000  \n",
            "75%       1.237522     2.287998     2.130769     1.079738     0.000000  \n",
            "max       6.809938    13.064950     7.182237     8.698460     1.000000  \n",
            "\n",
            "[8 rows x 41 columns]\n",
            "Missing values:\n",
            " V1        5\n",
            "V2        6\n",
            "V3        0\n",
            "V4        0\n",
            "V5        0\n",
            "V6        0\n",
            "V7        0\n",
            "V8        0\n",
            "V9        0\n",
            "V10       0\n",
            "V11       0\n",
            "V12       0\n",
            "V13       0\n",
            "V14       0\n",
            "V15       0\n",
            "V16       0\n",
            "V17       0\n",
            "V18       0\n",
            "V19       0\n",
            "V20       0\n",
            "V21       0\n",
            "V22       0\n",
            "V23       0\n",
            "V24       0\n",
            "V25       0\n",
            "V26       0\n",
            "V27       0\n",
            "V28       0\n",
            "V29       0\n",
            "V30       0\n",
            "V31       0\n",
            "V32       0\n",
            "V33       0\n",
            "V34       0\n",
            "V35       0\n",
            "V36       0\n",
            "V37       0\n",
            "V38       0\n",
            "V39       0\n",
            "V40       0\n",
            "Target    0\n",
            "dtype: int64\n"
          ]
        }
      ],
      "source": [
        "\n",
        "# Overview for train_df\n",
        "print(\"Train Data Overview\")\n",
        "print(\"Shape:\", train_df.shape)\n",
        "print(\"Columns:\", train_df.columns.tolist())\n",
        "print(\"Data types:\\n\", train_df.dtypes)\n",
        "print(\"First 5 rows:\\n\", train_df.head())\n",
        "print(\"Summary statistics:\\n\", train_df.describe())\n",
        "print(\"Missing values:\\n\", train_df.isnull().sum())\n",
        "\n",
        "print(\"\\n\" + \"=\"*60 + \"\\n\")\n",
        "\n",
        "# Overview for test_df\n",
        "print(\"Test Data Overview\")\n",
        "print(\"Shape:\", test_df.shape)\n",
        "print(\"Columns:\", test_df.columns.tolist())\n",
        "print(\"Data types:\\n\", test_df.dtypes)\n",
        "print(\"First 5 rows:\\n\", test_df.head())\n",
        "print(\"Summary statistics:\\n\", test_df.describe())\n",
        "print(\"Missing values:\\n\", test_df.isnull().sum())"
      ]
    },
    {
      "cell_type": "markdown",
      "metadata": {
        "id": "DhPuzWO7hmV8"
      },
      "source": [
        "# **Exploratory Data Analysis**"
      ]
    },
    {
      "cell_type": "markdown",
      "metadata": {
        "id": "Lv7Bs8aUbp07"
      },
      "source": [
        "## Univariate analysis"
      ]
    },
    {
      "cell_type": "code",
      "execution_count": 18,
      "metadata": {
        "id": "5rupsM4sbp08"
      },
      "outputs": [
        {
          "ename": "ModuleNotFoundError",
          "evalue": "No module named 'matplotlib'",
          "output_type": "error",
          "traceback": [
            "\u001b[0;31m---------------------------------------------------------------------------\u001b[0m",
            "\u001b[0;31mModuleNotFoundError\u001b[0m                       Traceback (most recent call last)",
            "Cell \u001b[0;32mIn[18], line 1\u001b[0m\n\u001b[0;32m----> 1\u001b[0m \u001b[38;5;28;01mimport\u001b[39;00m\u001b[38;5;250m \u001b[39m\u001b[38;5;21;01mmatplotlib\u001b[39;00m\u001b[38;5;21;01m.\u001b[39;00m\u001b[38;5;21;01mpyplot\u001b[39;00m\u001b[38;5;250m \u001b[39m\u001b[38;5;28;01mas\u001b[39;00m\u001b[38;5;250m \u001b[39m\u001b[38;5;21;01mplt\u001b[39;00m\n\u001b[1;32m      2\u001b[0m \u001b[38;5;28;01mimport\u001b[39;00m\u001b[38;5;250m \u001b[39m\u001b[38;5;21;01mseaborn\u001b[39;00m\u001b[38;5;250m \u001b[39m\u001b[38;5;28;01mas\u001b[39;00m\u001b[38;5;250m \u001b[39m\u001b[38;5;21;01msns\u001b[39;00m\n\u001b[1;32m      4\u001b[0m \u001b[38;5;66;03m# Univariate analysis for train_df\u001b[39;00m\n",
            "\u001b[0;31mModuleNotFoundError\u001b[0m: No module named 'matplotlib'"
          ]
        }
      ],
      "source": [
        "import matplotlib.pyplot as plt\n",
        "import seaborn as sns\n",
        "\n",
        "# Univariate analysis for train_df\n",
        "for col in train_df.columns:\n",
        "    print(f\"\\nColumn: {col}\")\n",
        "    print(\"Data type:\", train_df[col].dtype)\n",
        "    print(train_df[col].describe())\n",
        "    if train_df[col].dtype == 'object':\n",
        "        print(\"Value counts:\\n\", train_df[col].value_counts())\n",
        "        plt.figure(figsize=(8,4))\n",
        "        sns.countplot(y=col, data=train_df, order=train_df[col].value_counts().index)\n",
        "        plt.title(f'Countplot of {col}')\n",
        "        plt.show()\n",
        "    else:\n",
        "        plt.figure(figsize=(8,4))\n",
        "        sns.histplot(train_df[col].dropna(), kde=True)\n",
        "        plt.title(f'Histogram of {col}')\n",
        "        plt.show()\n",
        "        plt.figure(figsize=(8,2))\n",
        "        sns.boxplot(x=train_df[col])\n",
        "        plt.title(f'Boxplot of {col}')\n",
        "        plt.show()"
      ]
    },
    {
      "cell_type": "markdown",
      "metadata": {
        "id": "lRrYccqLJKXi"
      },
      "source": [
        "## Bivariate Analysis"
      ]
    },
    {
      "cell_type": "code",
      "execution_count": null,
      "metadata": {
        "id": "kL32Bf4rJO1F"
      },
      "outputs": [],
      "source": []
    },
    {
      "cell_type": "markdown",
      "metadata": {
        "id": "Bp8vC9MZbp09"
      },
      "source": [
        "# **Data Preprocessing**"
      ]
    },
    {
      "cell_type": "code",
      "execution_count": null,
      "metadata": {
        "id": "C-xgnTbGb4CY"
      },
      "outputs": [],
      "source": []
    },
    {
      "cell_type": "markdown",
      "metadata": {
        "id": "OzOa9FGA6WtG"
      },
      "source": [
        "# **Model Building**"
      ]
    },
    {
      "cell_type": "markdown",
      "metadata": {
        "id": "czwxDIZNccQL"
      },
      "source": [
        "## Model Evaluation Criterion"
      ]
    },
    {
      "cell_type": "markdown",
      "metadata": {
        "id": "l2ORUgmUjDZC"
      },
      "source": [
        "Write down the model evaluation criterion with rationale"
      ]
    },
    {
      "cell_type": "markdown",
      "metadata": {
        "id": "4fI98GOV0pTY"
      },
      "source": [
        "## Initial Model Building (Model 0)"
      ]
    },
    {
      "cell_type": "markdown",
      "metadata": {
        "id": "0usUom8nZOYZ"
      },
      "source": [
        "- Let's start with a neural network consisting of\n",
        "  - just one hidden layer\n",
        "  - activation function of ReLU\n",
        "  - SGD as the optimizer"
      ]
    },
    {
      "cell_type": "code",
      "execution_count": null,
      "metadata": {
        "id": "foiSZUcHKFp6"
      },
      "outputs": [],
      "source": []
    },
    {
      "cell_type": "markdown",
      "metadata": {
        "id": "2tlVEbIWKb6T"
      },
      "source": [
        "# **Model Performance Improvement**"
      ]
    },
    {
      "cell_type": "markdown",
      "metadata": {
        "id": "grQ6pRK1WZtr"
      },
      "source": [
        "## Model 1"
      ]
    },
    {
      "cell_type": "code",
      "execution_count": null,
      "metadata": {
        "id": "SfnoGNrmknOd"
      },
      "outputs": [],
      "source": []
    },
    {
      "cell_type": "markdown",
      "metadata": {
        "id": "iQhdyBg0OJWQ"
      },
      "source": [
        "## Model 2"
      ]
    },
    {
      "cell_type": "code",
      "execution_count": null,
      "metadata": {
        "id": "cE-wWumtWEpx"
      },
      "outputs": [],
      "source": []
    },
    {
      "cell_type": "markdown",
      "metadata": {
        "id": "83ryNh6qVVPm"
      },
      "source": [
        "## Model 3"
      ]
    },
    {
      "cell_type": "code",
      "execution_count": null,
      "metadata": {
        "id": "_7indJ37kx6e"
      },
      "outputs": [],
      "source": []
    },
    {
      "cell_type": "markdown",
      "metadata": {
        "id": "dPAuEVDzX0qL"
      },
      "source": [
        "## Model 4"
      ]
    },
    {
      "cell_type": "code",
      "execution_count": null,
      "metadata": {
        "id": "yNFE5bmpk2xo"
      },
      "outputs": [],
      "source": []
    },
    {
      "cell_type": "markdown",
      "metadata": {
        "id": "W2dZjgH0Yxok"
      },
      "source": [
        "## Model 5"
      ]
    },
    {
      "cell_type": "code",
      "execution_count": null,
      "metadata": {
        "id": "9RlRQJOuYxop"
      },
      "outputs": [],
      "source": []
    },
    {
      "cell_type": "markdown",
      "metadata": {
        "id": "H-wDd0RIZQyI"
      },
      "source": [
        "## Model 6"
      ]
    },
    {
      "cell_type": "code",
      "execution_count": null,
      "metadata": {
        "id": "SV3-H6ckZQyK"
      },
      "outputs": [],
      "source": []
    },
    {
      "cell_type": "markdown",
      "metadata": {
        "id": "3O07XgkzY_ot"
      },
      "source": [
        "# **Model Performance Comparison and Final Model Selection**"
      ]
    },
    {
      "cell_type": "markdown",
      "metadata": {
        "id": "mVYagrg9ZQyK"
      },
      "source": [
        "Now, in order to select the final model, we will compare the performances of all the models for the training and validation sets."
      ]
    },
    {
      "cell_type": "code",
      "execution_count": null,
      "metadata": {
        "id": "J4ZzDS8Cqe_b"
      },
      "outputs": [],
      "source": []
    },
    {
      "cell_type": "markdown",
      "metadata": {
        "id": "oA7JiQXgqy4b"
      },
      "source": [
        "Now, let's check the performance of the final model on the test set."
      ]
    },
    {
      "cell_type": "code",
      "execution_count": null,
      "metadata": {
        "id": "AEcVdcG7q7xv"
      },
      "outputs": [],
      "source": []
    },
    {
      "cell_type": "markdown",
      "metadata": {
        "id": "JdME3J172AN-"
      },
      "source": [
        "# **Actionable Insights and Recommendations**"
      ]
    },
    {
      "cell_type": "markdown",
      "metadata": {
        "id": "qGX3aALmlWOm"
      },
      "source": [
        "Write down some insights and business recommendations based on your observations."
      ]
    }
  ],
  "metadata": {
    "colab": {
      "collapsed_sections": [
        "9EaJ8AGwpM-2",
        "x3-QehJxbp0t",
        "4p9zp6bHfPOY",
        "XPeJAS5bfUOj",
        "v_-uuGqH-qTt",
        "xxhpZv9y-qTw",
        "4cVx5kZHbp02",
        "DhPuzWO7hmV8",
        "Lv7Bs8aUbp07",
        "lRrYccqLJKXi",
        "Bp8vC9MZbp09",
        "OzOa9FGA6WtG",
        "czwxDIZNccQL",
        "4fI98GOV0pTY",
        "2tlVEbIWKb6T",
        "grQ6pRK1WZtr",
        "iQhdyBg0OJWQ",
        "83ryNh6qVVPm",
        "dPAuEVDzX0qL",
        "W2dZjgH0Yxok",
        "H-wDd0RIZQyI",
        "3O07XgkzY_ot",
        "JdME3J172AN-"
      ],
      "provenance": []
    },
    "kernelspec": {
      "display_name": ".venv",
      "language": "python",
      "name": "python3"
    },
    "language_info": {
      "codemirror_mode": {
        "name": "ipython",
        "version": 3
      },
      "file_extension": ".py",
      "mimetype": "text/x-python",
      "name": "python",
      "nbconvert_exporter": "python",
      "pygments_lexer": "ipython3",
      "version": "3.9.6"
    }
  },
  "nbformat": 4,
  "nbformat_minor": 0
}
