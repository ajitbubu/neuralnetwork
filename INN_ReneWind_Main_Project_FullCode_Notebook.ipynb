{
  "cells": [
    {
      "cell_type": "markdown",
      "metadata": {
        "id": "9EaJ8AGwpM-2"
      },
      "source": [
        "# **Problem Statement**"
      ]
    },
    {
      "cell_type": "markdown",
      "metadata": {
        "id": "x3-QehJxbp0t"
      },
      "source": [
        "## Business Context"
      ]
    },
    {
      "cell_type": "markdown",
      "source": [
        "Renewable energy sources play an increasingly important role in the global energy mix, as the effort to reduce the environmental impact of energy production increases.\n",
        "\n",
        "Out of all the renewable energy alternatives, wind energy is one of the most developed technologies worldwide. The U.S Department of Energy has put together a guide to achieving operational efficiency using predictive maintenance practices.\n",
        "\n",
        "Predictive maintenance uses sensor information and analysis methods to measure and predict degradation and future component capability. The idea behind predictive maintenance is that failure patterns are predictable and if component failure can be predicted accurately and the component is replaced before it fails, the costs of operation and maintenance will be much lower.\n",
        "\n",
        "The sensors fitted across different machines involved in the process of energy generation collect data related to various environmental factors (temperature, humidity, wind speed, etc.) and additional features related to various parts of the wind turbine (gearbox, tower, blades, break, etc.)."
      ],
      "metadata": {
        "id": "7DoY1AHZfMF1"
      }
    },
    {
      "cell_type": "markdown",
      "source": [
        "## Objective"
      ],
      "metadata": {
        "id": "4p9zp6bHfPOY"
      }
    },
    {
      "cell_type": "markdown",
      "source": [
        "“ReneWind” is a company working on improving the machinery/processes involved in the production of wind energy using machine learning and has collected data of generator failure of wind turbines using sensors. They have shared a ciphered version of the data, as the data collected through sensors is confidential (the type of data collected varies with companies). Data has 40 predictors, 20000 observations in the training set and 5000 in the test set.\n",
        "\n",
        "The objective is to build various classification models, tune them, and find the best one that will help identify failures so that the generators could be repaired before failing/breaking to reduce the overall maintenance cost.\n",
        "The nature of predictions made by the classification model will translate as follows:\n",
        "\n",
        "- True positives (TP) are failures correctly predicted by the model. These will result in repairing costs.\n",
        "- False negatives (FN) are real failures where there is no detection by the model. These will result in replacement costs.\n",
        "- False positives (FP) are detections where there is no failure. These will result in inspection costs.\n",
        "\n",
        "It is given that the cost of repairing a generator is much less than the cost of replacing it, and the cost of inspection is less than the cost of repair.\n",
        "\n",
        "“1” in the target variables should be considered as “failure” and “0” represents “No failure”."
      ],
      "metadata": {
        "id": "eu7YIw90fRdW"
      }
    },
    {
      "cell_type": "markdown",
      "source": [
        "## Data Description"
      ],
      "metadata": {
        "id": "XPeJAS5bfUOj"
      }
    },
    {
      "cell_type": "markdown",
      "source": [
        "The data provided is a transformed version of the original data which was collected using sensors.\n",
        "\n",
        "- Train.csv - To be used for training and tuning of models.\n",
        "- Test.csv - To be used only for testing the performance of the final best model.\n",
        "\n",
        "Both the datasets consist of 40 predictor variables and 1 target variable."
      ],
      "metadata": {
        "id": "P4ns9KiyfVsW"
      }
    },
    {
      "cell_type": "markdown",
      "metadata": {
        "id": "v_-uuGqH-qTt"
      },
      "source": [
        "# **Installing and Importing the necessary libraries**"
      ]
    },
    {
      "cell_type": "code",
      "source": [
        "# Installing the libraries with the specified version\n",
        "!pip install --no-deps tensorflow==2.18.0 scikit-learn==1.3.2 matplotlib===3.8.3 seaborn==0.13.2 numpy==1.26.4 pandas==2.2.2 -q --user --no-warn-script-location"
      ],
      "metadata": {
        "id": "s5w1NSScjjiW",
        "colab": {
          "base_uri": "https://localhost:8080/"
        },
        "outputId": "e9fe7229-8a2f-485b-a020-0c0c4a45e58c"
      },
      "execution_count": 1,
      "outputs": [
        {
          "output_type": "stream",
          "name": "stdout",
          "text": [
            "\u001b[2K     \u001b[90m━━━━━━━━━━━━━━━━━━━━━━━━━━━━━━━━━━━━━━━━\u001b[0m \u001b[32m61.0/61.0 kB\u001b[0m \u001b[31m2.1 MB/s\u001b[0m eta \u001b[36m0:00:00\u001b[0m\n",
            "\u001b[2K   \u001b[90m━━━━━━━━━━━━━━━━━━━━━━━━━━━━━━━━━━━━━━━━\u001b[0m \u001b[32m10.9/10.9 MB\u001b[0m \u001b[31m58.7 MB/s\u001b[0m eta \u001b[36m0:00:00\u001b[0m\n",
            "\u001b[2K   \u001b[90m━━━━━━━━━━━━━━━━━━━━━━━━━━━━━━━━━━━━━━━━\u001b[0m \u001b[32m11.6/11.6 MB\u001b[0m \u001b[31m69.8 MB/s\u001b[0m eta \u001b[36m0:00:00\u001b[0m\n",
            "\u001b[2K   \u001b[90m━━━━━━━━━━━━━━━━━━━━━━━━━━━━━━━━━━━━━━━━\u001b[0m \u001b[32m18.3/18.3 MB\u001b[0m \u001b[31m91.3 MB/s\u001b[0m eta \u001b[36m0:00:00\u001b[0m\n",
            "\u001b[?25h"
          ]
        }
      ]
    },
    {
      "cell_type": "code",
      "source": [
        "import numpy as np\n",
        "import pandas as pd\n",
        "import matplotlib.pyplot as plt\n",
        "import seaborn as sns\n",
        "\n",
        "from sklearn.model_selection import train_test_split\n",
        "from sklearn.preprocessing import MinMaxScaler\n",
        "\n",
        "import tensorflow as tf\n",
        "from tensorflow.keras.models import Sequential\n",
        "from tensorflow.keras.layers import Dense, Dropout, Activation\n"
      ],
      "metadata": {
        "id": "ol2q5ryAcjWN"
      },
      "execution_count": 2,
      "outputs": []
    },
    {
      "cell_type": "markdown",
      "source": [
        "**Note**:\n",
        "- After running the above cell, kindly restart the runtime (for Google Colab) or notebook kernel (for Jupyter Notebook), and run all cells sequentially from the next cell.\n",
        "- On executing the above line of code, you might see a warning regarding package dependencies. This error message can be ignored as the above code ensures that all necessary libraries and their dependencies are maintained to successfully execute the code in ***this notebook***."
      ],
      "metadata": {
        "id": "fQsK5-zTfqBt"
      }
    },
    {
      "cell_type": "markdown",
      "metadata": {
        "id": "xxhpZv9y-qTw"
      },
      "source": [
        "# **Loading the Data**"
      ]
    },
    {
      "cell_type": "code",
      "source": [
        "# GitHub raw URLs\n",
        "train_url = 'https://raw.githubusercontent.com/ajitbubu/neuralnetwork/main/Train.csv'\n",
        "test_url = 'https://raw.githubusercontent.com/ajitbubu/neuralnetwork/main/Test.csv'\n",
        "\n",
        "# Load the datasets\n",
        "train_df = pd.read_csv(train_url)\n",
        "test_df = pd.read_csv(test_url)\n",
        "\n",
        "# Basic info\n",
        "print(\"Train Data Shape:\", train_df.shape)\n",
        "print(\"Test Data Shape:\", test_df.shape)\n",
        "\n",
        "# First few rows\n",
        "print(\"\\nTrain Data Preview:\")\n",
        "print(train_df.head())\n",
        "\n",
        "# Class distribution\n",
        "print(\"\\nTarget Variable Distribution:\")\n",
        "print(train_df['Target'].value_counts(normalize=True).rename(\"Proportion\"))"
      ],
      "metadata": {
        "id": "ZwejMQj9jlrK",
        "colab": {
          "base_uri": "https://localhost:8080/"
        },
        "outputId": "b1a05722-f818-463c-dbde-0160105aa6e1"
      },
      "execution_count": 4,
      "outputs": [
        {
          "output_type": "stream",
          "name": "stdout",
          "text": [
            "Train Data Shape: (20000, 41)\n",
            "Test Data Shape: (5000, 41)\n",
            "\n",
            "Train Data Preview:\n",
            "         V1        V2        V3        V4        V5        V6        V7  \\\n",
            "0 -4.464606 -4.679129  3.101546  0.506130 -0.221083 -2.032511 -2.910870   \n",
            "1  3.365912  3.653381  0.909671 -1.367528  0.332016  2.358938  0.732600   \n",
            "2 -3.831843 -5.824444  0.634031 -2.418815 -1.773827  1.016824 -2.098941   \n",
            "3  1.618098  1.888342  7.046143 -1.147285  0.083080 -1.529780  0.207309   \n",
            "4 -0.111440  3.872488 -3.758361 -2.982897  3.792714  0.544960  0.205433   \n",
            "\n",
            "         V8        V9       V10  ...       V32       V33        V34       V35  \\\n",
            "0  0.050714 -1.522351  3.761892  ...  3.059700 -1.690440   2.846296  2.235198   \n",
            "1 -4.332135  0.565695 -0.101080  ... -1.795474  3.032780  -2.467514  1.894599   \n",
            "2 -3.173204 -2.081860  5.392621  ... -0.257101  0.803550   4.086219  2.292138   \n",
            "3 -2.493629  0.344926  2.118578  ... -3.584425 -2.577474   1.363769  0.622714   \n",
            "4  4.848994 -1.854920 -6.220023  ...  8.265896  6.629213 -10.068689  1.222987   \n",
            "\n",
            "        V36       V37       V38       V39       V40  Target  \n",
            "0  6.667486  0.443809 -2.369169  2.950578 -3.480324       0  \n",
            "1 -2.297780 -1.731048  5.908837 -0.386345  0.616242       0  \n",
            "2  5.360850  0.351993  2.940021  3.839160 -4.309402       0  \n",
            "3  5.550100 -1.526796  0.138853  3.101430 -1.277378       0  \n",
            "4 -3.229763  1.686909 -2.163896 -3.644622  6.510338       0  \n",
            "\n",
            "[5 rows x 41 columns]\n",
            "\n",
            "Target Variable Distribution:\n",
            "Target\n",
            "0    0.9445\n",
            "1    0.0555\n",
            "Name: Proportion, dtype: float64\n"
          ]
        }
      ]
    },
    {
      "cell_type": "markdown",
      "metadata": {
        "id": "4cVx5kZHbp02"
      },
      "source": [
        "# **Data Overview**"
      ]
    },
    {
      "cell_type": "code",
      "execution_count": 18,
      "metadata": {
        "id": "J6lzvHKCbp06",
        "colab": {
          "base_uri": "https://localhost:8080/",
          "height": 291
        },
        "outputId": "21e6e791-a886-40fc-dc41-eef4d9a5dc0b"
      },
      "outputs": [
        {
          "output_type": "stream",
          "name": "stdout",
          "text": [
            "\n",
            "Train set statistics:\n"
          ]
        },
        {
          "output_type": "execute_result",
          "data": {
            "text/plain": [
              "         V1        V2        V3        V4        V5        V6        V7  \\\n",
              "0 -0.613489 -3.819640  2.202302  1.300420 -1.184929 -4.495964 -1.835817   \n",
              "1  0.389608 -0.512341  0.527053 -2.576776 -1.016766  2.235112 -0.441301   \n",
              "2 -0.874861 -0.640632  4.084202 -1.590454  0.525855 -1.957592 -0.695367   \n",
              "3  0.238384  1.458607  4.014528  2.534478  1.196987 -3.117330 -0.924035   \n",
              "4  5.828225  2.768260 -1.234530  2.809264 -1.641648 -1.406698  0.568643   \n",
              "\n",
              "         V8        V9       V10  ...       V32       V33       V34       V35  \\\n",
              "0  4.722989  1.206140 -0.341909  ...  2.291204 -5.411388  0.870073  0.574479   \n",
              "1 -4.405744 -0.332869  1.966794  ... -2.474936  2.493582  0.315165  2.059288   \n",
              "2  1.347309 -1.732348  0.466500  ... -1.318888 -2.997464  0.459664  0.619774   \n",
              "3  0.269493  1.322436  0.702345  ...  3.517918 -3.074085 -0.284220  0.954576   \n",
              "4  0.965043  1.918379 -2.774855  ...  1.773841 -1.501573 -2.226702  4.776830   \n",
              "\n",
              "        V36       V37        V38       V39       V40  Target  \n",
              "0  4.157191  1.428093 -10.511342  0.454664 -1.448363       0  \n",
              "1  0.683859 -0.485452   5.128350  1.720744 -1.488235       0  \n",
              "2  5.631504  1.323512  -1.752154  1.808302  1.675748       0  \n",
              "3  3.029331 -1.367198  -3.412140  0.906000 -2.450889       0  \n",
              "4 -6.559698 -0.805551  -0.276007 -3.858207 -0.537694       0  \n",
              "\n",
              "[5 rows x 41 columns]"
            ],
            "text/html": [
              "\n",
              "  <div id=\"df-90062d6f-b08b-4afe-ba8a-7706e87a595e\" class=\"colab-df-container\">\n",
              "    <div>\n",
              "<style scoped>\n",
              "    .dataframe tbody tr th:only-of-type {\n",
              "        vertical-align: middle;\n",
              "    }\n",
              "\n",
              "    .dataframe tbody tr th {\n",
              "        vertical-align: top;\n",
              "    }\n",
              "\n",
              "    .dataframe thead th {\n",
              "        text-align: right;\n",
              "    }\n",
              "</style>\n",
              "<table border=\"1\" class=\"dataframe\">\n",
              "  <thead>\n",
              "    <tr style=\"text-align: right;\">\n",
              "      <th></th>\n",
              "      <th>V1</th>\n",
              "      <th>V2</th>\n",
              "      <th>V3</th>\n",
              "      <th>V4</th>\n",
              "      <th>V5</th>\n",
              "      <th>V6</th>\n",
              "      <th>V7</th>\n",
              "      <th>V8</th>\n",
              "      <th>V9</th>\n",
              "      <th>V10</th>\n",
              "      <th>...</th>\n",
              "      <th>V32</th>\n",
              "      <th>V33</th>\n",
              "      <th>V34</th>\n",
              "      <th>V35</th>\n",
              "      <th>V36</th>\n",
              "      <th>V37</th>\n",
              "      <th>V38</th>\n",
              "      <th>V39</th>\n",
              "      <th>V40</th>\n",
              "      <th>Target</th>\n",
              "    </tr>\n",
              "  </thead>\n",
              "  <tbody>\n",
              "    <tr>\n",
              "      <th>0</th>\n",
              "      <td>-0.613489</td>\n",
              "      <td>-3.819640</td>\n",
              "      <td>2.202302</td>\n",
              "      <td>1.300420</td>\n",
              "      <td>-1.184929</td>\n",
              "      <td>-4.495964</td>\n",
              "      <td>-1.835817</td>\n",
              "      <td>4.722989</td>\n",
              "      <td>1.206140</td>\n",
              "      <td>-0.341909</td>\n",
              "      <td>...</td>\n",
              "      <td>2.291204</td>\n",
              "      <td>-5.411388</td>\n",
              "      <td>0.870073</td>\n",
              "      <td>0.574479</td>\n",
              "      <td>4.157191</td>\n",
              "      <td>1.428093</td>\n",
              "      <td>-10.511342</td>\n",
              "      <td>0.454664</td>\n",
              "      <td>-1.448363</td>\n",
              "      <td>0</td>\n",
              "    </tr>\n",
              "    <tr>\n",
              "      <th>1</th>\n",
              "      <td>0.389608</td>\n",
              "      <td>-0.512341</td>\n",
              "      <td>0.527053</td>\n",
              "      <td>-2.576776</td>\n",
              "      <td>-1.016766</td>\n",
              "      <td>2.235112</td>\n",
              "      <td>-0.441301</td>\n",
              "      <td>-4.405744</td>\n",
              "      <td>-0.332869</td>\n",
              "      <td>1.966794</td>\n",
              "      <td>...</td>\n",
              "      <td>-2.474936</td>\n",
              "      <td>2.493582</td>\n",
              "      <td>0.315165</td>\n",
              "      <td>2.059288</td>\n",
              "      <td>0.683859</td>\n",
              "      <td>-0.485452</td>\n",
              "      <td>5.128350</td>\n",
              "      <td>1.720744</td>\n",
              "      <td>-1.488235</td>\n",
              "      <td>0</td>\n",
              "    </tr>\n",
              "    <tr>\n",
              "      <th>2</th>\n",
              "      <td>-0.874861</td>\n",
              "      <td>-0.640632</td>\n",
              "      <td>4.084202</td>\n",
              "      <td>-1.590454</td>\n",
              "      <td>0.525855</td>\n",
              "      <td>-1.957592</td>\n",
              "      <td>-0.695367</td>\n",
              "      <td>1.347309</td>\n",
              "      <td>-1.732348</td>\n",
              "      <td>0.466500</td>\n",
              "      <td>...</td>\n",
              "      <td>-1.318888</td>\n",
              "      <td>-2.997464</td>\n",
              "      <td>0.459664</td>\n",
              "      <td>0.619774</td>\n",
              "      <td>5.631504</td>\n",
              "      <td>1.323512</td>\n",
              "      <td>-1.752154</td>\n",
              "      <td>1.808302</td>\n",
              "      <td>1.675748</td>\n",
              "      <td>0</td>\n",
              "    </tr>\n",
              "    <tr>\n",
              "      <th>3</th>\n",
              "      <td>0.238384</td>\n",
              "      <td>1.458607</td>\n",
              "      <td>4.014528</td>\n",
              "      <td>2.534478</td>\n",
              "      <td>1.196987</td>\n",
              "      <td>-3.117330</td>\n",
              "      <td>-0.924035</td>\n",
              "      <td>0.269493</td>\n",
              "      <td>1.322436</td>\n",
              "      <td>0.702345</td>\n",
              "      <td>...</td>\n",
              "      <td>3.517918</td>\n",
              "      <td>-3.074085</td>\n",
              "      <td>-0.284220</td>\n",
              "      <td>0.954576</td>\n",
              "      <td>3.029331</td>\n",
              "      <td>-1.367198</td>\n",
              "      <td>-3.412140</td>\n",
              "      <td>0.906000</td>\n",
              "      <td>-2.450889</td>\n",
              "      <td>0</td>\n",
              "    </tr>\n",
              "    <tr>\n",
              "      <th>4</th>\n",
              "      <td>5.828225</td>\n",
              "      <td>2.768260</td>\n",
              "      <td>-1.234530</td>\n",
              "      <td>2.809264</td>\n",
              "      <td>-1.641648</td>\n",
              "      <td>-1.406698</td>\n",
              "      <td>0.568643</td>\n",
              "      <td>0.965043</td>\n",
              "      <td>1.918379</td>\n",
              "      <td>-2.774855</td>\n",
              "      <td>...</td>\n",
              "      <td>1.773841</td>\n",
              "      <td>-1.501573</td>\n",
              "      <td>-2.226702</td>\n",
              "      <td>4.776830</td>\n",
              "      <td>-6.559698</td>\n",
              "      <td>-0.805551</td>\n",
              "      <td>-0.276007</td>\n",
              "      <td>-3.858207</td>\n",
              "      <td>-0.537694</td>\n",
              "      <td>0</td>\n",
              "    </tr>\n",
              "  </tbody>\n",
              "</table>\n",
              "<p>5 rows × 41 columns</p>\n",
              "</div>\n",
              "    <div class=\"colab-df-buttons\">\n",
              "\n",
              "  <div class=\"colab-df-container\">\n",
              "    <button class=\"colab-df-convert\" onclick=\"convertToInteractive('df-90062d6f-b08b-4afe-ba8a-7706e87a595e')\"\n",
              "            title=\"Convert this dataframe to an interactive table.\"\n",
              "            style=\"display:none;\">\n",
              "\n",
              "  <svg xmlns=\"http://www.w3.org/2000/svg\" height=\"24px\" viewBox=\"0 -960 960 960\">\n",
              "    <path d=\"M120-120v-720h720v720H120Zm60-500h600v-160H180v160Zm220 220h160v-160H400v160Zm0 220h160v-160H400v160ZM180-400h160v-160H180v160Zm440 0h160v-160H620v160ZM180-180h160v-160H180v160Zm440 0h160v-160H620v160Z\"/>\n",
              "  </svg>\n",
              "    </button>\n",
              "\n",
              "  <style>\n",
              "    .colab-df-container {\n",
              "      display:flex;\n",
              "      gap: 12px;\n",
              "    }\n",
              "\n",
              "    .colab-df-convert {\n",
              "      background-color: #E8F0FE;\n",
              "      border: none;\n",
              "      border-radius: 50%;\n",
              "      cursor: pointer;\n",
              "      display: none;\n",
              "      fill: #1967D2;\n",
              "      height: 32px;\n",
              "      padding: 0 0 0 0;\n",
              "      width: 32px;\n",
              "    }\n",
              "\n",
              "    .colab-df-convert:hover {\n",
              "      background-color: #E2EBFA;\n",
              "      box-shadow: 0px 1px 2px rgba(60, 64, 67, 0.3), 0px 1px 3px 1px rgba(60, 64, 67, 0.15);\n",
              "      fill: #174EA6;\n",
              "    }\n",
              "\n",
              "    .colab-df-buttons div {\n",
              "      margin-bottom: 4px;\n",
              "    }\n",
              "\n",
              "    [theme=dark] .colab-df-convert {\n",
              "      background-color: #3B4455;\n",
              "      fill: #D2E3FC;\n",
              "    }\n",
              "\n",
              "    [theme=dark] .colab-df-convert:hover {\n",
              "      background-color: #434B5C;\n",
              "      box-shadow: 0px 1px 3px 1px rgba(0, 0, 0, 0.15);\n",
              "      filter: drop-shadow(0px 1px 2px rgba(0, 0, 0, 0.3));\n",
              "      fill: #FFFFFF;\n",
              "    }\n",
              "  </style>\n",
              "\n",
              "    <script>\n",
              "      const buttonEl =\n",
              "        document.querySelector('#df-90062d6f-b08b-4afe-ba8a-7706e87a595e button.colab-df-convert');\n",
              "      buttonEl.style.display =\n",
              "        google.colab.kernel.accessAllowed ? 'block' : 'none';\n",
              "\n",
              "      async function convertToInteractive(key) {\n",
              "        const element = document.querySelector('#df-90062d6f-b08b-4afe-ba8a-7706e87a595e');\n",
              "        const dataTable =\n",
              "          await google.colab.kernel.invokeFunction('convertToInteractive',\n",
              "                                                    [key], {});\n",
              "        if (!dataTable) return;\n",
              "\n",
              "        const docLinkHtml = 'Like what you see? Visit the ' +\n",
              "          '<a target=\"_blank\" href=https://colab.research.google.com/notebooks/data_table.ipynb>data table notebook</a>'\n",
              "          + ' to learn more about interactive tables.';\n",
              "        element.innerHTML = '';\n",
              "        dataTable['output_type'] = 'display_data';\n",
              "        await google.colab.output.renderOutput(dataTable, element);\n",
              "        const docLink = document.createElement('div');\n",
              "        docLink.innerHTML = docLinkHtml;\n",
              "        element.appendChild(docLink);\n",
              "      }\n",
              "    </script>\n",
              "  </div>\n",
              "\n",
              "\n",
              "    <div id=\"df-f5f5fa32-6978-4206-9ff5-af6274c02f33\">\n",
              "      <button class=\"colab-df-quickchart\" onclick=\"quickchart('df-f5f5fa32-6978-4206-9ff5-af6274c02f33')\"\n",
              "                title=\"Suggest charts\"\n",
              "                style=\"display:none;\">\n",
              "\n",
              "<svg xmlns=\"http://www.w3.org/2000/svg\" height=\"24px\"viewBox=\"0 0 24 24\"\n",
              "     width=\"24px\">\n",
              "    <g>\n",
              "        <path d=\"M19 3H5c-1.1 0-2 .9-2 2v14c0 1.1.9 2 2 2h14c1.1 0 2-.9 2-2V5c0-1.1-.9-2-2-2zM9 17H7v-7h2v7zm4 0h-2V7h2v10zm4 0h-2v-4h2v4z\"/>\n",
              "    </g>\n",
              "</svg>\n",
              "      </button>\n",
              "\n",
              "<style>\n",
              "  .colab-df-quickchart {\n",
              "      --bg-color: #E8F0FE;\n",
              "      --fill-color: #1967D2;\n",
              "      --hover-bg-color: #E2EBFA;\n",
              "      --hover-fill-color: #174EA6;\n",
              "      --disabled-fill-color: #AAA;\n",
              "      --disabled-bg-color: #DDD;\n",
              "  }\n",
              "\n",
              "  [theme=dark] .colab-df-quickchart {\n",
              "      --bg-color: #3B4455;\n",
              "      --fill-color: #D2E3FC;\n",
              "      --hover-bg-color: #434B5C;\n",
              "      --hover-fill-color: #FFFFFF;\n",
              "      --disabled-bg-color: #3B4455;\n",
              "      --disabled-fill-color: #666;\n",
              "  }\n",
              "\n",
              "  .colab-df-quickchart {\n",
              "    background-color: var(--bg-color);\n",
              "    border: none;\n",
              "    border-radius: 50%;\n",
              "    cursor: pointer;\n",
              "    display: none;\n",
              "    fill: var(--fill-color);\n",
              "    height: 32px;\n",
              "    padding: 0;\n",
              "    width: 32px;\n",
              "  }\n",
              "\n",
              "  .colab-df-quickchart:hover {\n",
              "    background-color: var(--hover-bg-color);\n",
              "    box-shadow: 0 1px 2px rgba(60, 64, 67, 0.3), 0 1px 3px 1px rgba(60, 64, 67, 0.15);\n",
              "    fill: var(--button-hover-fill-color);\n",
              "  }\n",
              "\n",
              "  .colab-df-quickchart-complete:disabled,\n",
              "  .colab-df-quickchart-complete:disabled:hover {\n",
              "    background-color: var(--disabled-bg-color);\n",
              "    fill: var(--disabled-fill-color);\n",
              "    box-shadow: none;\n",
              "  }\n",
              "\n",
              "  .colab-df-spinner {\n",
              "    border: 2px solid var(--fill-color);\n",
              "    border-color: transparent;\n",
              "    border-bottom-color: var(--fill-color);\n",
              "    animation:\n",
              "      spin 1s steps(1) infinite;\n",
              "  }\n",
              "\n",
              "  @keyframes spin {\n",
              "    0% {\n",
              "      border-color: transparent;\n",
              "      border-bottom-color: var(--fill-color);\n",
              "      border-left-color: var(--fill-color);\n",
              "    }\n",
              "    20% {\n",
              "      border-color: transparent;\n",
              "      border-left-color: var(--fill-color);\n",
              "      border-top-color: var(--fill-color);\n",
              "    }\n",
              "    30% {\n",
              "      border-color: transparent;\n",
              "      border-left-color: var(--fill-color);\n",
              "      border-top-color: var(--fill-color);\n",
              "      border-right-color: var(--fill-color);\n",
              "    }\n",
              "    40% {\n",
              "      border-color: transparent;\n",
              "      border-right-color: var(--fill-color);\n",
              "      border-top-color: var(--fill-color);\n",
              "    }\n",
              "    60% {\n",
              "      border-color: transparent;\n",
              "      border-right-color: var(--fill-color);\n",
              "    }\n",
              "    80% {\n",
              "      border-color: transparent;\n",
              "      border-right-color: var(--fill-color);\n",
              "      border-bottom-color: var(--fill-color);\n",
              "    }\n",
              "    90% {\n",
              "      border-color: transparent;\n",
              "      border-bottom-color: var(--fill-color);\n",
              "    }\n",
              "  }\n",
              "</style>\n",
              "\n",
              "      <script>\n",
              "        async function quickchart(key) {\n",
              "          const quickchartButtonEl =\n",
              "            document.querySelector('#' + key + ' button');\n",
              "          quickchartButtonEl.disabled = true;  // To prevent multiple clicks.\n",
              "          quickchartButtonEl.classList.add('colab-df-spinner');\n",
              "          try {\n",
              "            const charts = await google.colab.kernel.invokeFunction(\n",
              "                'suggestCharts', [key], {});\n",
              "          } catch (error) {\n",
              "            console.error('Error during call to suggestCharts:', error);\n",
              "          }\n",
              "          quickchartButtonEl.classList.remove('colab-df-spinner');\n",
              "          quickchartButtonEl.classList.add('colab-df-quickchart-complete');\n",
              "        }\n",
              "        (() => {\n",
              "          let quickchartButtonEl =\n",
              "            document.querySelector('#df-f5f5fa32-6978-4206-9ff5-af6274c02f33 button');\n",
              "          quickchartButtonEl.style.display =\n",
              "            google.colab.kernel.accessAllowed ? 'block' : 'none';\n",
              "        })();\n",
              "      </script>\n",
              "    </div>\n",
              "\n",
              "    </div>\n",
              "  </div>\n"
            ],
            "application/vnd.google.colaboratory.intrinsic+json": {
              "type": "dataframe"
            }
          },
          "metadata": {},
          "execution_count": 18
        }
      ],
      "source": [
        "train_df.head()\n",
        "#print(train_df.head())\n",
        "\n",
        "# Feature summary statistics\n",
        "print(\"\\nTrain set statistics:\")\n",
        "test_df.head()\n",
        "# print(test_df.head())\n"
      ]
    },
    {
      "cell_type": "code",
      "source": [
        "train_df.info()\n"
      ],
      "metadata": {
        "colab": {
          "base_uri": "https://localhost:8080/"
        },
        "id": "KtWc_MDehZ72",
        "outputId": "4293497c-46ed-4f85-e201-ddbffcc2f406"
      },
      "execution_count": 20,
      "outputs": [
        {
          "output_type": "stream",
          "name": "stdout",
          "text": [
            "<class 'pandas.core.frame.DataFrame'>\n",
            "RangeIndex: 20000 entries, 0 to 19999\n",
            "Data columns (total 41 columns):\n",
            " #   Column  Non-Null Count  Dtype  \n",
            "---  ------  --------------  -----  \n",
            " 0   V1      19982 non-null  float64\n",
            " 1   V2      19982 non-null  float64\n",
            " 2   V3      20000 non-null  float64\n",
            " 3   V4      20000 non-null  float64\n",
            " 4   V5      20000 non-null  float64\n",
            " 5   V6      20000 non-null  float64\n",
            " 6   V7      20000 non-null  float64\n",
            " 7   V8      20000 non-null  float64\n",
            " 8   V9      20000 non-null  float64\n",
            " 9   V10     20000 non-null  float64\n",
            " 10  V11     20000 non-null  float64\n",
            " 11  V12     20000 non-null  float64\n",
            " 12  V13     20000 non-null  float64\n",
            " 13  V14     20000 non-null  float64\n",
            " 14  V15     20000 non-null  float64\n",
            " 15  V16     20000 non-null  float64\n",
            " 16  V17     20000 non-null  float64\n",
            " 17  V18     20000 non-null  float64\n",
            " 18  V19     20000 non-null  float64\n",
            " 19  V20     20000 non-null  float64\n",
            " 20  V21     20000 non-null  float64\n",
            " 21  V22     20000 non-null  float64\n",
            " 22  V23     20000 non-null  float64\n",
            " 23  V24     20000 non-null  float64\n",
            " 24  V25     20000 non-null  float64\n",
            " 25  V26     20000 non-null  float64\n",
            " 26  V27     20000 non-null  float64\n",
            " 27  V28     20000 non-null  float64\n",
            " 28  V29     20000 non-null  float64\n",
            " 29  V30     20000 non-null  float64\n",
            " 30  V31     20000 non-null  float64\n",
            " 31  V32     20000 non-null  float64\n",
            " 32  V33     20000 non-null  float64\n",
            " 33  V34     20000 non-null  float64\n",
            " 34  V35     20000 non-null  float64\n",
            " 35  V36     20000 non-null  float64\n",
            " 36  V37     20000 non-null  float64\n",
            " 37  V38     20000 non-null  float64\n",
            " 38  V39     20000 non-null  float64\n",
            " 39  V40     20000 non-null  float64\n",
            " 40  Target  20000 non-null  int64  \n",
            "dtypes: float64(40), int64(1)\n",
            "memory usage: 6.3 MB\n"
          ]
        }
      ]
    },
    {
      "cell_type": "code",
      "source": [
        "# Overview of shape\n",
        "print(\"Train shape:\", train_df.shape)\n",
        "print(\"Test shape:\", test_df.shape)\n",
        "\n",
        "# Check for missing values\n",
        "print(\"\\nMissing values in train set:\", train_df.isnull().sum().sum())\n",
        "print(\"Missing values in test set:\", test_df.isnull().sum().sum())\n",
        "\n",
        "# Feature summary statistics\n",
        "print(\"\\nTrain set statistics:\")\n",
        "print(train_df.describe().T.head(10))  # show summary for first 10 features\n",
        "\n",
        "# Check feature types\n",
        "print(\"\\nFeature types:\")\n",
        "print(train_df.dtypes.value_counts())\n",
        "\n",
        "# Target variable distribution\n",
        "print(\"\\nTarget variable distribution:\")\n",
        "print(train_df['Target'].value_counts())\n",
        "print(train_df['Target'].value_counts(normalize=True).rename(\"Proportion\"))\n",
        "\n",
        "# Preview data\n",
        "print(\"\\nData sample:\")\n",
        "print(train_df.head())"
      ],
      "metadata": {
        "colab": {
          "base_uri": "https://localhost:8080/"
        },
        "id": "gAoUtRI5i-Qb",
        "outputId": "e6b3b793-cb72-41ed-c20f-28828eaa74ee"
      },
      "execution_count": 22,
      "outputs": [
        {
          "output_type": "stream",
          "name": "stdout",
          "text": [
            "Train shape: (20000, 41)\n",
            "Test shape: (5000, 41)\n",
            "\n",
            "Missing values in train set: 36\n",
            "Missing values in test set: 11\n",
            "\n",
            "Train set statistics:\n",
            "       count      mean       std        min       25%       50%       75%  \\\n",
            "V1   19982.0 -0.271996  3.441625 -11.876451 -2.737146 -0.747917  1.840112   \n",
            "V2   19982.0  0.440430  3.150784 -12.319951 -1.640674  0.471536  2.543967   \n",
            "V3   20000.0  2.484699  3.388963 -10.708139  0.206860  2.255786  4.566165   \n",
            "V4   20000.0 -0.083152  3.431595 -15.082052 -2.347660 -0.135241  2.130615   \n",
            "V5   20000.0 -0.053752  2.104801  -8.603361 -1.535607 -0.101952  1.340480   \n",
            "V6   20000.0 -0.995443  2.040970 -10.227147 -2.347238 -1.000515  0.380330   \n",
            "V7   20000.0 -0.879325  1.761626  -7.949681 -2.030926 -0.917179  0.223695   \n",
            "V8   20000.0 -0.548195  3.295756 -15.657561 -2.642665 -0.389085  1.722965   \n",
            "V9   20000.0 -0.016808  2.160568  -8.596313 -1.494973 -0.067597  1.409203   \n",
            "V10  20000.0 -0.012998  2.193201  -9.853957 -1.411212  0.100973  1.477045   \n",
            "\n",
            "           max  \n",
            "V1   15.493002  \n",
            "V2   13.089269  \n",
            "V3   17.090919  \n",
            "V4   13.236381  \n",
            "V5    8.133797  \n",
            "V6    6.975847  \n",
            "V7    8.006091  \n",
            "V8   11.679495  \n",
            "V9    8.137580  \n",
            "V10   8.108472  \n",
            "\n",
            "Feature types:\n",
            "float64    40\n",
            "int64       1\n",
            "Name: count, dtype: int64\n",
            "\n",
            "Target variable distribution:\n",
            "Target\n",
            "0    18890\n",
            "1     1110\n",
            "Name: count, dtype: int64\n",
            "Target\n",
            "0    0.9445\n",
            "1    0.0555\n",
            "Name: Proportion, dtype: float64\n",
            "\n",
            "Data sample:\n",
            "         V1        V2        V3        V4        V5        V6        V7  \\\n",
            "0 -4.464606 -4.679129  3.101546  0.506130 -0.221083 -2.032511 -2.910870   \n",
            "1  3.365912  3.653381  0.909671 -1.367528  0.332016  2.358938  0.732600   \n",
            "2 -3.831843 -5.824444  0.634031 -2.418815 -1.773827  1.016824 -2.098941   \n",
            "3  1.618098  1.888342  7.046143 -1.147285  0.083080 -1.529780  0.207309   \n",
            "4 -0.111440  3.872488 -3.758361 -2.982897  3.792714  0.544960  0.205433   \n",
            "\n",
            "         V8        V9       V10  ...       V32       V33        V34       V35  \\\n",
            "0  0.050714 -1.522351  3.761892  ...  3.059700 -1.690440   2.846296  2.235198   \n",
            "1 -4.332135  0.565695 -0.101080  ... -1.795474  3.032780  -2.467514  1.894599   \n",
            "2 -3.173204 -2.081860  5.392621  ... -0.257101  0.803550   4.086219  2.292138   \n",
            "3 -2.493629  0.344926  2.118578  ... -3.584425 -2.577474   1.363769  0.622714   \n",
            "4  4.848994 -1.854920 -6.220023  ...  8.265896  6.629213 -10.068689  1.222987   \n",
            "\n",
            "        V36       V37       V38       V39       V40  Target  \n",
            "0  6.667486  0.443809 -2.369169  2.950578 -3.480324       0  \n",
            "1 -2.297780 -1.731048  5.908837 -0.386345  0.616242       0  \n",
            "2  5.360850  0.351993  2.940021  3.839160 -4.309402       0  \n",
            "3  5.550100 -1.526796  0.138853  3.101430 -1.277378       0  \n",
            "4 -3.229763  1.686909 -2.163896 -3.644622  6.510338       0  \n",
            "\n",
            "[5 rows x 41 columns]\n"
          ]
        }
      ]
    },
    {
      "cell_type": "markdown",
      "metadata": {
        "id": "DhPuzWO7hmV8"
      },
      "source": [
        "# **Exploratory Data Analysis**"
      ]
    },
    {
      "cell_type": "markdown",
      "metadata": {
        "id": "Lv7Bs8aUbp07"
      },
      "source": [
        "## Univariate analysis"
      ]
    },
    {
      "cell_type": "code",
      "execution_count": 25,
      "metadata": {
        "id": "5rupsM4sbp08",
        "colab": {
          "base_uri": "https://localhost:8080/",
          "height": 1000
        },
        "outputId": "399b149d-b74a-4bfb-df63-cb65af18de62"
      },
      "outputs": [
        {
          "output_type": "display_data",
          "data": {
            "text/plain": [
              "<Figure size 640x480 with 1 Axes>"
            ],
            "image/png": "[encoded data removed]"
          },
          "metadata": {}
        },
        {
          "output_type": "display_data",
          "data": {
            "text/plain": [
              "<Figure size 1200x600 with 6 Axes>"
            ],
            "image/png": "[encoded data removed]"
          },
          "metadata": {}
        }
      ],
      "source": [
        "# Target variable count plot\n",
        "sns.countplot(x='Target', data=train_df)\n",
        "plt.title(\"Target Class Distribution\")\n",
        "plt.show()\n",
        "\n",
        "# Histogram for a few selected features\n",
        "feature_sample = train_df.columns[1:6]\n",
        "train_df[feature_sample].hist(figsize=(12, 6), bins=30)\n",
        "plt.suptitle(\"Feature Distributions (Sample)\")\n",
        "plt.show()"
      ]
    },
    {
      "cell_type": "markdown",
      "source": [
        "Insights:\n",
        "\n",
        "Class 0 (No failure) dominates — class imbalance confirmed.\n",
        "\n",
        "Most features appear normally distributed or slightly skewed."
      ],
      "metadata": {
        "id": "H2F9Tx-bkHmJ"
      }
    },
    {
      "cell_type": "markdown",
      "source": [
        "## Bivariate Analysis"
      ],
      "metadata": {
        "id": "lRrYccqLJKXi"
      }
    },
    {
      "cell_type": "markdown",
      "source": [
        "Focus: Relationship between individual features and the target."
      ],
      "metadata": {
        "id": "jh-II4NAkZpd"
      }
    },
    {
      "cell_type": "markdown",
      "source": [
        "a. Boxplots (Feature vs. Target)"
      ],
      "metadata": {
        "id": "pW_WdXPkkh9c"
      }
    },
    {
      "cell_type": "code",
      "source": [
        "for col in feature_sample:\n",
        "    sns.boxplot(x='Target', y=col, data=train_df)\n",
        "    plt.title(f\"Distribution of {col} by Target\")\n",
        "    plt.show()\n"
      ],
      "metadata": {
        "id": "kL32Bf4rJO1F",
        "colab": {
          "base_uri": "https://localhost:8080/",
          "height": 1000
        },
        "outputId": "c59f8ea5-f566-4520-de91-a5282a65eee9"
      },
      "execution_count": 26,
      "outputs": [
        {
          "output_type": "display_data",
          "data": {
            "text/plain": [
              "<Figure size 640x480 with 1 Axes>"
            ],
            "image/png": "[encoded data removed]"
          },
          "metadata": {}
        },
        {
          "output_type": "display_data",
          "data": {
            "text/plain": [
              "<Figure size 640x480 with 1 Axes>"
            ],
            "image/png": "[encoded data removed]"
          },
          "metadata": {}
        },
        {
          "output_type": "display_data",
          "data": {
            "text/plain": [
              "<Figure size 640x480 with 1 Axes>"
            ],
            "image/png": "[encoded data removed]"
          },
          "metadata": {}
        },
        {
          "output_type": "display_data",
          "data": {
            "text/plain": [
              "<Figure size 640x480 with 1 Axes>"
            ],
            "image/png": "[encoded data removed]"
          },
          "metadata": {}
        },
        {
          "output_type": "display_data",
          "data": {
            "text/plain": [
              "<Figure size 640x480 with 1 Axes>"
            ],
            "image/png": "[encoded data removed]"
          },
          "metadata": {}
        }
      ]
    },
    {
      "cell_type": "markdown",
      "source": [
        "b. Correlation with Target"
      ],
      "metadata": {
        "id": "5oUhLfoukj_G"
      }
    },
    {
      "cell_type": "code",
      "source": [
        "correlations = train_df.corr()['Target'].drop('Target')\n",
        "top_corr = correlations.abs().sort_values(ascending=False).head(10)\n",
        "\n",
        "# Barplot\n",
        "top_corr.plot(kind='barh')\n",
        "plt.title(\"Top 10 Features Most Correlated with Target\")\n",
        "plt.xlabel(\"Correlation\")\n",
        "plt.show()\n"
      ],
      "metadata": {
        "colab": {
          "base_uri": "https://localhost:8080/",
          "height": 472
        },
        "id": "aNqOKbH9kohO",
        "outputId": "0b94a6c1-446c-45f1-e72f-242a1a9be1a1"
      },
      "execution_count": 28,
      "outputs": [
        {
          "output_type": "display_data",
          "data": {
            "text/plain": [
              "<Figure size 640x480 with 1 Axes>"
            ],
            "image/png": "[encoded data removed]"
          },
          "metadata": {}
        }
      ]
    },
    {
      "cell_type": "markdown",
      "source": [
        "Insights:\n",
        "\n",
        "Some features show moderate correlation with the target.\n",
        "\n",
        "These can guide feature selection or importance estimation."
      ],
      "metadata": {
        "id": "OJ3F_YQjkxlO"
      }
    },
    {
      "cell_type": "markdown",
      "metadata": {
        "id": "Bp8vC9MZbp09"
      },
      "source": [
        "# **Data Preprocessing**"
      ]
    },
    {
      "cell_type": "markdown",
      "source": [
        "Missing Values"
      ],
      "metadata": {
        "id": "XOlCxO_CmCZv"
      }
    },
    {
      "cell_type": "code",
      "execution_count": 29,
      "metadata": {
        "id": "C-xgnTbGb4CY",
        "colab": {
          "base_uri": "https://localhost:8080/"
        },
        "outputId": "be9e7a1f-5248-4c21-e45a-4ee6ee17c8d5"
      },
      "outputs": [
        {
          "output_type": "stream",
          "name": "stdout",
          "text": [
            "Train missing values: 36\n",
            "Test missing values: 11\n"
          ]
        }
      ],
      "source": [
        "# Confirm no missing values\n",
        "print(\"Train missing values:\", train_df.isnull().sum().sum())\n",
        "print(\"Test missing values:\", test_df.isnull().sum().sum())\n"
      ]
    },
    {
      "cell_type": "markdown",
      "source": [
        "Separate Features and Target"
      ],
      "metadata": {
        "id": "VX5hMCdSmPGs"
      }
    },
    {
      "cell_type": "code",
      "source": [
        "X = train_df.drop('Target', axis=1)\n",
        "y = train_df['Target']\n"
      ],
      "metadata": {
        "id": "_fqAiPGSmROc"
      },
      "execution_count": 30,
      "outputs": []
    },
    {
      "cell_type": "markdown",
      "source": [
        "Train-Test Split (For Model Tuning)"
      ],
      "metadata": {
        "id": "YYhoQsIAmawD"
      }
    },
    {
      "cell_type": "code",
      "source": [
        "X_train, X_val, y_train, y_val = train_test_split(\n",
        "    X, y, test_size=0.2, stratify=y, random_state=42\n",
        ")\n"
      ],
      "metadata": {
        "id": "JONvlcwzmbsB"
      },
      "execution_count": 32,
      "outputs": []
    },
    {
      "cell_type": "markdown",
      "metadata": {
        "id": "OzOa9FGA6WtG"
      },
      "source": [
        "# **Model Building**"
      ]
    },
    {
      "cell_type": "markdown",
      "metadata": {
        "id": "czwxDIZNccQL"
      },
      "source": [
        "## Model Evaluation Criterion"
      ]
    },
    {
      "cell_type": "markdown",
      "metadata": {
        "id": "l2ORUgmUjDZC"
      },
      "source": [
        "Write down the model evaluation criterion with rationale"
      ]
    },
    {
      "cell_type": "markdown",
      "metadata": {
        "id": "4fI98GOV0pTY"
      },
      "source": [
        "## Initial Model Building (Model 0)"
      ]
    },
    {
      "cell_type": "markdown",
      "source": [
        "- Let's start with a neural network consisting of\n",
        "  - just one hidden layer\n",
        "  - activation function of ReLU\n",
        "  - SGD as the optimizer"
      ],
      "metadata": {
        "id": "0usUom8nZOYZ"
      }
    },
    {
      "cell_type": "code",
      "source": [],
      "metadata": {
        "id": "foiSZUcHKFp6"
      },
      "execution_count": null,
      "outputs": []
    },
    {
      "cell_type": "markdown",
      "source": [
        "# **Model Performance Improvement**"
      ],
      "metadata": {
        "id": "2tlVEbIWKb6T"
      }
    },
    {
      "cell_type": "markdown",
      "source": [
        "## Model 1"
      ],
      "metadata": {
        "id": "grQ6pRK1WZtr"
      }
    },
    {
      "cell_type": "code",
      "source": [],
      "metadata": {
        "id": "SfnoGNrmknOd"
      },
      "execution_count": null,
      "outputs": []
    },
    {
      "cell_type": "markdown",
      "source": [
        "## Model 2"
      ],
      "metadata": {
        "id": "iQhdyBg0OJWQ"
      }
    },
    {
      "cell_type": "code",
      "source": [],
      "metadata": {
        "id": "cE-wWumtWEpx"
      },
      "execution_count": null,
      "outputs": []
    },
    {
      "cell_type": "markdown",
      "source": [
        "## Model 3"
      ],
      "metadata": {
        "id": "83ryNh6qVVPm"
      }
    },
    {
      "cell_type": "code",
      "source": [],
      "metadata": {
        "id": "_7indJ37kx6e"
      },
      "execution_count": null,
      "outputs": []
    },
    {
      "cell_type": "markdown",
      "source": [
        "## Model 4"
      ],
      "metadata": {
        "id": "dPAuEVDzX0qL"
      }
    },
    {
      "cell_type": "code",
      "source": [],
      "metadata": {
        "id": "yNFE5bmpk2xo"
      },
      "execution_count": null,
      "outputs": []
    },
    {
      "cell_type": "markdown",
      "source": [
        "## Model 5"
      ],
      "metadata": {
        "id": "W2dZjgH0Yxok"
      }
    },
    {
      "cell_type": "code",
      "source": [],
      "metadata": {
        "id": "9RlRQJOuYxop"
      },
      "execution_count": null,
      "outputs": []
    },
    {
      "cell_type": "markdown",
      "source": [
        "## Model 6"
      ],
      "metadata": {
        "id": "H-wDd0RIZQyI"
      }
    },
    {
      "cell_type": "code",
      "source": [],
      "metadata": {
        "id": "SV3-H6ckZQyK"
      },
      "execution_count": null,
      "outputs": []
    },
    {
      "cell_type": "markdown",
      "source": [
        "# **Model Performance Comparison and Final Model Selection**"
      ],
      "metadata": {
        "id": "3O07XgkzY_ot"
      }
    },
    {
      "cell_type": "markdown",
      "source": [
        "Now, in order to select the final model, we will compare the performances of all the models for the training and validation sets."
      ],
      "metadata": {
        "id": "mVYagrg9ZQyK"
      }
    },
    {
      "cell_type": "code",
      "source": [],
      "metadata": {
        "id": "J4ZzDS8Cqe_b"
      },
      "execution_count": null,
      "outputs": []
    },
    {
      "cell_type": "markdown",
      "source": [
        "Now, let's check the performance of the final model on the test set."
      ],
      "metadata": {
        "id": "oA7JiQXgqy4b"
      }
    },
    {
      "cell_type": "code",
      "source": [],
      "metadata": {
        "id": "AEcVdcG7q7xv"
      },
      "execution_count": null,
      "outputs": []
    },
    {
      "cell_type": "markdown",
      "metadata": {
        "id": "JdME3J172AN-"
      },
      "source": [
        "# **Actionable Insights and Recommendations**"
      ]
    },
    {
      "cell_type": "markdown",
      "source": [
        "Write down some insights and business recommendations based on your observations."
      ],
      "metadata": {
        "id": "qGX3aALmlWOm"
      }
    }
  ],
  "metadata": {
    "colab": {
      "collapsed_sections": [
        "9EaJ8AGwpM-2",
        "x3-QehJxbp0t",
        "4p9zp6bHfPOY",
        "XPeJAS5bfUOj",
        "v_-uuGqH-qTt",
        "xxhpZv9y-qTw",
        "4cVx5kZHbp02",
        "DhPuzWO7hmV8",
        "Lv7Bs8aUbp07",
        "lRrYccqLJKXi",
        "Bp8vC9MZbp09",
        "OzOa9FGA6WtG",
        "czwxDIZNccQL",
        "4fI98GOV0pTY",
        "2tlVEbIWKb6T",
        "grQ6pRK1WZtr",
        "iQhdyBg0OJWQ",
        "83ryNh6qVVPm",
        "dPAuEVDzX0qL",
        "W2dZjgH0Yxok",
        "H-wDd0RIZQyI",
        "3O07XgkzY_ot",
        "JdME3J172AN-"
      ],
      "provenance": []
    },
    "kernelspec": {
      "display_name": "Python 3",
      "name": "python3"
    },
    "language_info": {
      "codemirror_mode": {
        "name": "ipython",
        "version": 3
      },
      "file_extension": ".py",
      "mimetype": "text/x-python",
      "name": "python",
      "nbconvert_exporter": "python",
      "pygments_lexer": "ipython3",
      "version": "3.11.3"
    }
  },
  "nbformat": 4,
  "nbformat_minor": 0
}